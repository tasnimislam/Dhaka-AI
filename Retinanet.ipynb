{
  "nbformat": 4,
  "nbformat_minor": 0,
  "metadata": {
    "accelerator": "GPU",
    "colab": {
      "name": "Retinanet.ipynb",
      "provenance": []
    },
    "kernelspec": {
      "display_name": "Python 3",
      "name": "python3"
    }
  },
  "cells": [
    {
      "cell_type": "code",
      "metadata": {
        "colab": {
          "base_uri": "https://localhost:8080/"
        },
        "id": "TSJK2VC2Quot",
        "outputId": "d48474bf-2a69-4381-df87-697bece4fcc1"
      },
      "source": [
        "!git clone https://github.com/yhenon/pytorch-retinanet.git"
      ],
      "execution_count": null,
      "outputs": [
        {
          "output_type": "stream",
          "text": [
            "fatal: destination path 'pytorch-retinanet' already exists and is not an empty directory.\n"
          ],
          "name": "stdout"
        }
      ]
    },
    {
      "cell_type": "code",
      "metadata": {
        "id": "xbIHq0XkQ1BI"
      },
      "source": [
        "!cp -r \"/content/pytorch-retinanet\" \"/content/drive/My Drive\""
      ],
      "execution_count": null,
      "outputs": []
    },
    {
      "cell_type": "code",
      "metadata": {
        "colab": {
          "base_uri": "https://localhost:8080/"
        },
        "id": "ObEP-E9RSh9Z",
        "outputId": "8129bcfc-fafb-407a-a48f-11c20a94f872"
      },
      "source": [
        "%cd \"/content/drive/My Drive/pytorch-retinanet\"\n",
        "import re\n",
        "import cv2\n",
        "import time\n",
        "import numpy as np\n",
        "import pandas as pd\n",
        "import os\n",
        "\n",
        "from skimage import io\n",
        "\n",
        "\n",
        "\n",
        "\n",
        "import torch\n",
        "import torch.optim as optim\n",
        "import torchvision.transforms as T\n",
        "from torchvision.utils import make_grid \n",
        "from torch.utils.data import DataLoader, Dataset\n",
        "\n",
        "from retinanet import model\n",
        "from retinanet.dataloader import collater, Resizer, Augmenter, Normalizer, UnNormalizer\n",
        "\n",
        "import seaborn as sns\n",
        "from matplotlib import pyplot as plt\n",
        "%matplotlib inline\n",
        "\n",
        "DIR_TRAIN = \"/content/drive/My Drive/df_fold_0/images/train_image\"\n",
        "DIR_VAL = \"/content/drive/My Drive/df_fold_0/images/val_image\""
      ],
      "execution_count": null,
      "outputs": [
        {
          "output_type": "stream",
          "text": [
            "/content/drive/My Drive/pytorch-retinanet\n"
          ],
          "name": "stdout"
        }
      ]
    },
    {
      "cell_type": "code",
      "metadata": {
        "id": "BpQ7NmDvn9Sh"
      },
      "source": [
        "import PIL\n",
        "from PIL import Image\n",
        "import skimage.io\n",
        "import os"
      ],
      "execution_count": null,
      "outputs": []
    },
    {
      "cell_type": "code",
      "metadata": {
        "id": "RJ43TAwQwXhc"
      },
      "source": [
        "def load_image(image_index, dir):\n",
        "      #print(image_index)\n",
        "      image_name = os.path.join(dir, image_index)\n",
        "      img = skimage.io.imread(image_name)\n",
        "\n",
        "      if len(img.shape) == 2:\n",
        "          img = skimage.color.gray2rgb(img)\n",
        "\n",
        "      return img.astype(np.float32)/255.0"
      ],
      "execution_count": null,
      "outputs": []
    },
    {
      "cell_type": "code",
      "metadata": {
        "id": "qCrFXoZTWhBo"
      },
      "source": [
        "class DhakaAi(Dataset):\n",
        "    def __init__(self, dataframe, image_dir, mode = \"train\", transforms = None):\n",
        "        \n",
        "        super().__init__()\n",
        "        self.image_ids = dataframe['image_id']\n",
        "        self.df = dataframe\n",
        "        self.image_dir = image_dir\n",
        "        self.mode = mode\n",
        "        self.transforms = transforms\n",
        "    \n",
        "\n",
        "    def __getitem__(self, index: int):\n",
        "\n",
        "        \n",
        "        # Retriving image id and records from df\n",
        "        #records = self.df[self.df['image_id'] == image_id]\n",
        "\n",
        "        # Loading Image\n",
        "        \n",
        "        image_id = self.image_ids[index]\n",
        "        image = load_image(image_id, self.image_dir)\n",
        "        image_shape = image.shape\n",
        "        \n",
        "        # If mode is set to train, then only we create targets\n",
        "        if self.mode == \"train\" or self.mode == \"valid\":\n",
        "          label_dir = self.image_dir.replace(\"images\", \"labels\")\n",
        "          label_dir = label_dir + \"/\" + image_id.replace(\"jpg\", \"txt\")\n",
        "          label_file = open(label_dir, \"r\")\n",
        "          boxes = []\n",
        "          lines = label_file.read().split(\"\\n\")\n",
        "          for line in lines[:-1]:\n",
        "            box = np.zeros((5, 1))\n",
        "            line = line.split(\" \")\n",
        "            box[4] = int(line[0])\n",
        "            box[0] = int((float(line[1]) - float(line[3]))*image_shape[1])\n",
        "            box[1] = int((float(line[2]) - float(line[4]))*image_shape[0])\n",
        "            box[2] = int((float(line[1]) + float(line[3]))*image_shape[1])\n",
        "            box[3] = int((float(line[2]) + float(line[4]))*image_shape[0])\n",
        "            boxes.append(box)\n",
        "          boxes = np.array(boxes, dtype=np.int64)\n",
        "            \n",
        "          # Applying Transforms\n",
        "          sample = {'img': image, 'annot': boxes}\n",
        "                \n",
        "          if self.transforms:\n",
        "            image = self.transforms(image)\n",
        "            sample = {\"img\": image, \"annot\": boxes}\n",
        "\n",
        "          return sample\n",
        "        \n",
        "        elif self.mode == \"test\":\n",
        "            \n",
        "          # We just need to apply transoforms and return image\n",
        "          if self.transforms:\n",
        "                \n",
        "            \n",
        "            image = self.transforms(image)\n",
        "            sample = {'img' : image}\n",
        "                \n",
        "            return sample\n",
        "      \n",
        "\n",
        "    def __len__(self) -> int:\n",
        "        return self.image_ids.shape[0]\n",
        "\n",
        "    def collate_fn(batch):\n",
        "        img, label, path, shapes = zip(*batch)  # transposed\n",
        "        for i, l in enumerate(label):\n",
        "            l[:, 0] = i  # add target image index for build_targets()\n",
        "        return torch.stack(img, 0), torch.cat(label, 0), path, shapes\n",
        "    "
      ],
      "execution_count": null,
      "outputs": []
    },
    {
      "cell_type": "code",
      "metadata": {
        "id": "07gZ8-wsm1zQ"
      },
      "source": [
        "transforms = T.Compose([Augmenter(),\n",
        "                        Normalizer(),\n",
        "                        Resizer(), \n",
        "                        T.ColorJitter(),\n",
        "                        T.RandomHorizontalFlip(p=0.5), \n",
        "                        T.RandomPerspective(distortion_scale=0.5, p=0.5, interpolation=3, fill=0), \n",
        "                        T.RandomRotation(50, resample=False, expand=False, center=None, fill=None),\n",
        "                        T.RandomVerticalFlip(p=0.5), \n",
        "                        T.RandomErasing(p=0.5, scale=(0.02, 0.33),ratio=(0.3, 3.3), value=0, inplace=False)])"
      ],
      "execution_count": null,
      "outputs": []
    },
    {
      "cell_type": "code",
      "metadata": {
        "id": "D_sVTjMW4wS-"
      },
      "source": [
        "import os\n",
        "import pandas as pd\n",
        "train_list = os.listdir(\"/content/drive/My Drive/df_fold_0/images/train_image\")\n",
        "train_df = pd.DataFrame()\n",
        "train_df[\"image_id\"] = train_list\n",
        "val_list = os.listdir(\"/content/drive/My Drive/df_fold_0/images/val_image\")\n",
        "val_df = pd.DataFrame()\n",
        "val_df[\"image_id\"] = val_list"
      ],
      "execution_count": null,
      "outputs": []
    },
    {
      "cell_type": "code",
      "metadata": {
        "colab": {
          "base_uri": "https://localhost:8080/",
          "height": 195
        },
        "id": "vK-uefo5xXQF",
        "outputId": "b4128ce1-82fc-47f3-8c7c-1be3ee4e42d0"
      },
      "source": [
        "train_df.head()"
      ],
      "execution_count": null,
      "outputs": [
        {
          "output_type": "execute_result",
          "data": {
            "text/html": [
              "<div>\n",
              "<style scoped>\n",
              "    .dataframe tbody tr th:only-of-type {\n",
              "        vertical-align: middle;\n",
              "    }\n",
              "\n",
              "    .dataframe tbody tr th {\n",
              "        vertical-align: top;\n",
              "    }\n",
              "\n",
              "    .dataframe thead th {\n",
              "        text-align: right;\n",
              "    }\n",
              "</style>\n",
              "<table border=\"1\" class=\"dataframe\">\n",
              "  <thead>\n",
              "    <tr style=\"text-align: right;\">\n",
              "      <th></th>\n",
              "      <th>image_id</th>\n",
              "    </tr>\n",
              "  </thead>\n",
              "  <tbody>\n",
              "    <tr>\n",
              "      <th>0</th>\n",
              "      <td>Pias (474).jpg</td>\n",
              "    </tr>\n",
              "    <tr>\n",
              "      <th>1</th>\n",
              "      <td>Pias (129).jpg</td>\n",
              "    </tr>\n",
              "    <tr>\n",
              "      <th>2</th>\n",
              "      <td>Navid_371.jpg</td>\n",
              "    </tr>\n",
              "    <tr>\n",
              "      <th>3</th>\n",
              "      <td>14.jpg</td>\n",
              "    </tr>\n",
              "    <tr>\n",
              "      <th>4</th>\n",
              "      <td>Numan_(409).jpg</td>\n",
              "    </tr>\n",
              "  </tbody>\n",
              "</table>\n",
              "</div>"
            ],
            "text/plain": [
              "          image_id\n",
              "0   Pias (474).jpg\n",
              "1   Pias (129).jpg\n",
              "2    Navid_371.jpg\n",
              "3           14.jpg\n",
              "4  Numan_(409).jpg"
            ]
          },
          "metadata": {
            "tags": []
          },
          "execution_count": 209
        }
      ]
    },
    {
      "cell_type": "code",
      "metadata": {
        "id": "3HpdT0Pryq4L"
      },
      "source": [
        "train_dataset = DhakaAi(train_df, DIR_TRAIN, mode = \"train\", transforms = transforms)\n",
        "valid_dataset = DhakaAi(val_df, DIR_VAL, mode = \"valid\", transforms = transforms)"
      ],
      "execution_count": null,
      "outputs": []
    },
    {
      "cell_type": "code",
      "metadata": {
        "id": "pIHCDS5C_g8q"
      },
      "source": [
        "# DataLoaders\n",
        "train_data_loader = DataLoader(\n",
        "    train_dataset,\n",
        "    batch_size = 16,\n",
        "    shuffle = True,\n",
        "    num_workers = 4,\n",
        "    collate_fn = collater\n",
        ")\n",
        "\n",
        "valid_data_loader = DataLoader(\n",
        "    valid_dataset,\n",
        "    batch_size = 16,\n",
        "    shuffle = True,\n",
        "    num_workers = 4,\n",
        "    collate_fn = collater\n",
        ")\n",
        "\n",
        "\n",
        "test_data_loader = DataLoader(\n",
        "    valid_dataset,\n",
        "    batch_size = 1,\n",
        "    shuffle = True,\n",
        "    num_workers = 4,\n",
        "    collate_fn = collater\n",
        ")"
      ],
      "execution_count": null,
      "outputs": []
    },
    {
      "cell_type": "code",
      "metadata": {
        "id": "x4BsOc8LDn9P"
      },
      "source": [
        "### Utilize GPU if available\n",
        "\n",
        "device = torch.device('cuda') if torch.cuda.is_available() else torch.device('cpu')\n",
        "torch.cuda.empty_cache()"
      ],
      "execution_count": null,
      "outputs": []
    },
    {
      "cell_type": "code",
      "metadata": {
        "id": "DvFnaxiMFDK6"
      },
      "source": [
        "### I am using Pre-trained Resnet50 as backbone\n",
        "\n",
        "retinanet = model.resnet50(num_classes = 2, pretrained = True)\n",
        "\n",
        "# Loading Pre-trained model - if you load pre-trained model, comment above line.\n",
        "#retinanet = torch.load(\"path_to_.pt_file\")"
      ],
      "execution_count": null,
      "outputs": []
    },
    {
      "cell_type": "code",
      "metadata": {
        "id": "aBYlpe5uFKDO"
      },
      "source": [
        "### Preparing model for training\n",
        "\n",
        "# Defininig Optimizer\n",
        "optimizer = torch.optim.Adam(retinanet.parameters(), lr = 0.0001)\n",
        "\n",
        "# Learning Rate Scheduler\n",
        "#lr_scheduler = torch.optim.lr_scheduler.StepLR(optimizer, step_size = 5, gamma=0.5)\n",
        "\n",
        "retinanet.to(device)\n",
        "\n",
        "#No of epochs\n",
        "epochs = 15"
      ],
      "execution_count": null,
      "outputs": []
    },
    {
      "cell_type": "code",
      "metadata": {
        "id": "NnMhVrK4FYO9"
      },
      "source": [
        "def train_one_epoch(epoch_num, train_data_loader):\n",
        "    \n",
        "    print(\"Epoch - {} Started\".format(epoch_num))\n",
        "    st = time.time()\n",
        "    \n",
        "    retinanet.train()\n",
        "    \n",
        "    epoch_loss = []\n",
        "\n",
        "    for iter_num, data in enumerate(train_data_loader):\n",
        "                \n",
        "        # Reseting gradients after each iter\n",
        "        optimizer.zero_grad()\n",
        "            \n",
        "        # Forward\n",
        "        classification_loss, regression_loss = retinanet([data['img'].cuda().float(), data['annot'].cuda().float()])\n",
        "                \n",
        "        # Calculating Loss\n",
        "        classification_loss = classification_loss.mean()\n",
        "        regression_loss = regression_loss.mean()\n",
        "\n",
        "        loss = classification_loss + regression_loss\n",
        "\n",
        "        if bool(loss == 0):\n",
        "            continue\n",
        "                \n",
        "        # Calculating Gradients\n",
        "        loss.backward()\n",
        "\n",
        "        # Gradient Clipping\n",
        "        torch.nn.utils.clip_grad_norm_(retinanet.parameters(), 0.1)\n",
        "                \n",
        "        # Updating Weights\n",
        "        optimizer.step()\n",
        "\n",
        "        #Epoch Loss\n",
        "        epoch_loss.append(float(loss))\n",
        "\n",
        "            \n",
        "        print(\n",
        "            'Epoch: {} | Iteration: {} | Classification loss: {:1.5f} | Regression loss: {:1.5f} | Running loss: {:1.5f}'.format(\n",
        "                epoch_num, iter_num, float(classification_loss), float(regression_loss), np.mean(epoch_loss)))\n",
        "\n",
        "        del classification_loss\n",
        "        del regression_loss\n",
        "        \n",
        "    # Update the learning rate\n",
        "    #if lr_scheduler is not None:\n",
        "        #lr_scheduler.step()\n",
        "        \n",
        "    et = time.time()\n",
        "    print(\"\\n Total Time - {}\\n\".format(int(et - st)))"
      ],
      "execution_count": null,
      "outputs": []
    },
    {
      "cell_type": "code",
      "metadata": {
        "id": "GqkUl_CpFf2Z"
      },
      "source": [
        "def valid_one_epoch(epoch_num, valid_data_loader):\n",
        "    \n",
        "    print(\"Epoch - {} Started\".format(epoch_num))\n",
        "    st = time.time()\n",
        "    \n",
        "    epoch_loss = []\n",
        "\n",
        "    for iter_num, data in enumerate(valid_data_loader):\n",
        "                \n",
        "        with torch.no_grad():\n",
        "            \n",
        "            # Forward\n",
        "            classification_loss, regression_loss = retinanet([data['img'].cuda().float(), data['annot'].cuda().float()])\n",
        "\n",
        "            # Calculating Loss\n",
        "            classification_loss = classification_loss.mean()\n",
        "            regression_loss = regression_loss.mean()\n",
        "            loss = classification_loss + regression_loss\n",
        "\n",
        "            #Epoch Loss\n",
        "            epoch_loss.append(float(loss))\n",
        "\n",
        "            print(\n",
        "                'Epoch: {} | Iteration: {} | Classification loss: {:1.5f} | Regression loss: {:1.5f} | Running loss: {:1.5f}'.format(\n",
        "                    epoch_num, iter_num, float(classification_loss), float(regression_loss), np.mean(epoch_loss)))\n",
        "\n",
        "            del classification_loss\n",
        "            del regression_loss\n",
        "        \n",
        "    et = time.time()\n",
        "    print(\"\\n Total Time - {}\\n\".format(int(et - st)))\n",
        "    \n",
        "    # Save Model after each epoch\n",
        "    %cd \"/content/drive/My Drive\"\n",
        "    torch.save(retinanet, \"retinanet_gwd.pt\")"
      ],
      "execution_count": null,
      "outputs": []
    },
    {
      "cell_type": "code",
      "metadata": {
        "colab": {
          "base_uri": "https://localhost:8080/",
          "height": 622
        },
        "id": "D4bdw1REFjiK",
        "outputId": "202af624-1d6d-494e-f421-c8fb59ab7611"
      },
      "source": [
        "### Training Loop\n",
        "for epoch in range(epochs):\n",
        "    \n",
        "    # Call train function\n",
        "    train_one_epoch(epoch, train_data_loader)\n",
        "    \n",
        "    # Call valid function\n",
        "    valid_one_epoch(epoch, valid_data_loader)"
      ],
      "execution_count": null,
      "outputs": [
        {
          "output_type": "stream",
          "text": [
            "Epoch - 0 Started\n"
          ],
          "name": "stdout"
        },
        {
          "output_type": "error",
          "ename": "IndexError",
          "evalue": "ignored",
          "traceback": [
            "\u001b[0;31m---------------------------------------------------------------------------\u001b[0m",
            "\u001b[0;31mIndexError\u001b[0m                                Traceback (most recent call last)",
            "\u001b[0;32m<ipython-input-217-de8efa741de4>\u001b[0m in \u001b[0;36m<module>\u001b[0;34m()\u001b[0m\n\u001b[1;32m      3\u001b[0m \u001b[0;34m\u001b[0m\u001b[0m\n\u001b[1;32m      4\u001b[0m     \u001b[0;31m# Call train function\u001b[0m\u001b[0;34m\u001b[0m\u001b[0;34m\u001b[0m\u001b[0;34m\u001b[0m\u001b[0m\n\u001b[0;32m----> 5\u001b[0;31m     \u001b[0mtrain_one_epoch\u001b[0m\u001b[0;34m(\u001b[0m\u001b[0mepoch\u001b[0m\u001b[0;34m,\u001b[0m \u001b[0mtrain_data_loader\u001b[0m\u001b[0;34m)\u001b[0m\u001b[0;34m\u001b[0m\u001b[0;34m\u001b[0m\u001b[0m\n\u001b[0m\u001b[1;32m      6\u001b[0m \u001b[0;34m\u001b[0m\u001b[0m\n\u001b[1;32m      7\u001b[0m     \u001b[0;31m# Call valid function\u001b[0m\u001b[0;34m\u001b[0m\u001b[0;34m\u001b[0m\u001b[0;34m\u001b[0m\u001b[0m\n",
            "\u001b[0;32m<ipython-input-215-70cba94fd35e>\u001b[0m in \u001b[0;36mtrain_one_epoch\u001b[0;34m(epoch_num, train_data_loader)\u001b[0m\n\u001b[1;32m      8\u001b[0m     \u001b[0mepoch_loss\u001b[0m \u001b[0;34m=\u001b[0m \u001b[0;34m[\u001b[0m\u001b[0;34m]\u001b[0m\u001b[0;34m\u001b[0m\u001b[0;34m\u001b[0m\u001b[0m\n\u001b[1;32m      9\u001b[0m \u001b[0;34m\u001b[0m\u001b[0m\n\u001b[0;32m---> 10\u001b[0;31m     \u001b[0;32mfor\u001b[0m \u001b[0miter_num\u001b[0m\u001b[0;34m,\u001b[0m \u001b[0mdata\u001b[0m \u001b[0;32min\u001b[0m \u001b[0menumerate\u001b[0m\u001b[0;34m(\u001b[0m\u001b[0mtrain_data_loader\u001b[0m\u001b[0;34m)\u001b[0m\u001b[0;34m:\u001b[0m\u001b[0;34m\u001b[0m\u001b[0;34m\u001b[0m\u001b[0m\n\u001b[0m\u001b[1;32m     11\u001b[0m \u001b[0;34m\u001b[0m\u001b[0m\n\u001b[1;32m     12\u001b[0m         \u001b[0;31m# Reseting gradients after each iter\u001b[0m\u001b[0;34m\u001b[0m\u001b[0;34m\u001b[0m\u001b[0;34m\u001b[0m\u001b[0m\n",
            "\u001b[0;32m/usr/local/lib/python3.6/dist-packages/torch/utils/data/dataloader.py\u001b[0m in \u001b[0;36m__next__\u001b[0;34m(self)\u001b[0m\n\u001b[1;32m    433\u001b[0m         \u001b[0;32mif\u001b[0m \u001b[0mself\u001b[0m\u001b[0;34m.\u001b[0m\u001b[0m_sampler_iter\u001b[0m \u001b[0;32mis\u001b[0m \u001b[0;32mNone\u001b[0m\u001b[0;34m:\u001b[0m\u001b[0;34m\u001b[0m\u001b[0;34m\u001b[0m\u001b[0m\n\u001b[1;32m    434\u001b[0m             \u001b[0mself\u001b[0m\u001b[0;34m.\u001b[0m\u001b[0m_reset\u001b[0m\u001b[0;34m(\u001b[0m\u001b[0;34m)\u001b[0m\u001b[0;34m\u001b[0m\u001b[0;34m\u001b[0m\u001b[0m\n\u001b[0;32m--> 435\u001b[0;31m         \u001b[0mdata\u001b[0m \u001b[0;34m=\u001b[0m \u001b[0mself\u001b[0m\u001b[0;34m.\u001b[0m\u001b[0m_next_data\u001b[0m\u001b[0;34m(\u001b[0m\u001b[0;34m)\u001b[0m\u001b[0;34m\u001b[0m\u001b[0;34m\u001b[0m\u001b[0m\n\u001b[0m\u001b[1;32m    436\u001b[0m         \u001b[0mself\u001b[0m\u001b[0;34m.\u001b[0m\u001b[0m_num_yielded\u001b[0m \u001b[0;34m+=\u001b[0m \u001b[0;36m1\u001b[0m\u001b[0;34m\u001b[0m\u001b[0;34m\u001b[0m\u001b[0m\n\u001b[1;32m    437\u001b[0m         \u001b[0;32mif\u001b[0m \u001b[0mself\u001b[0m\u001b[0;34m.\u001b[0m\u001b[0m_dataset_kind\u001b[0m \u001b[0;34m==\u001b[0m \u001b[0m_DatasetKind\u001b[0m\u001b[0;34m.\u001b[0m\u001b[0mIterable\u001b[0m \u001b[0;32mand\u001b[0m\u001b[0;31m \u001b[0m\u001b[0;31m\\\u001b[0m\u001b[0;34m\u001b[0m\u001b[0;34m\u001b[0m\u001b[0m\n",
            "\u001b[0;32m/usr/local/lib/python3.6/dist-packages/torch/utils/data/dataloader.py\u001b[0m in \u001b[0;36m_next_data\u001b[0;34m(self)\u001b[0m\n\u001b[1;32m   1083\u001b[0m             \u001b[0;32melse\u001b[0m\u001b[0;34m:\u001b[0m\u001b[0;34m\u001b[0m\u001b[0;34m\u001b[0m\u001b[0m\n\u001b[1;32m   1084\u001b[0m                 \u001b[0;32mdel\u001b[0m \u001b[0mself\u001b[0m\u001b[0;34m.\u001b[0m\u001b[0m_task_info\u001b[0m\u001b[0;34m[\u001b[0m\u001b[0midx\u001b[0m\u001b[0;34m]\u001b[0m\u001b[0;34m\u001b[0m\u001b[0;34m\u001b[0m\u001b[0m\n\u001b[0;32m-> 1085\u001b[0;31m                 \u001b[0;32mreturn\u001b[0m \u001b[0mself\u001b[0m\u001b[0;34m.\u001b[0m\u001b[0m_process_data\u001b[0m\u001b[0;34m(\u001b[0m\u001b[0mdata\u001b[0m\u001b[0;34m)\u001b[0m\u001b[0;34m\u001b[0m\u001b[0;34m\u001b[0m\u001b[0m\n\u001b[0m\u001b[1;32m   1086\u001b[0m \u001b[0;34m\u001b[0m\u001b[0m\n\u001b[1;32m   1087\u001b[0m     \u001b[0;32mdef\u001b[0m \u001b[0m_try_put_index\u001b[0m\u001b[0;34m(\u001b[0m\u001b[0mself\u001b[0m\u001b[0;34m)\u001b[0m\u001b[0;34m:\u001b[0m\u001b[0;34m\u001b[0m\u001b[0;34m\u001b[0m\u001b[0m\n",
            "\u001b[0;32m/usr/local/lib/python3.6/dist-packages/torch/utils/data/dataloader.py\u001b[0m in \u001b[0;36m_process_data\u001b[0;34m(self, data)\u001b[0m\n\u001b[1;32m   1109\u001b[0m         \u001b[0mself\u001b[0m\u001b[0;34m.\u001b[0m\u001b[0m_try_put_index\u001b[0m\u001b[0;34m(\u001b[0m\u001b[0;34m)\u001b[0m\u001b[0;34m\u001b[0m\u001b[0;34m\u001b[0m\u001b[0m\n\u001b[1;32m   1110\u001b[0m         \u001b[0;32mif\u001b[0m \u001b[0misinstance\u001b[0m\u001b[0;34m(\u001b[0m\u001b[0mdata\u001b[0m\u001b[0;34m,\u001b[0m \u001b[0mExceptionWrapper\u001b[0m\u001b[0;34m)\u001b[0m\u001b[0;34m:\u001b[0m\u001b[0;34m\u001b[0m\u001b[0;34m\u001b[0m\u001b[0m\n\u001b[0;32m-> 1111\u001b[0;31m             \u001b[0mdata\u001b[0m\u001b[0;34m.\u001b[0m\u001b[0mreraise\u001b[0m\u001b[0;34m(\u001b[0m\u001b[0;34m)\u001b[0m\u001b[0;34m\u001b[0m\u001b[0;34m\u001b[0m\u001b[0m\n\u001b[0m\u001b[1;32m   1112\u001b[0m         \u001b[0;32mreturn\u001b[0m \u001b[0mdata\u001b[0m\u001b[0;34m\u001b[0m\u001b[0;34m\u001b[0m\u001b[0m\n\u001b[1;32m   1113\u001b[0m \u001b[0;34m\u001b[0m\u001b[0m\n",
            "\u001b[0;32m/usr/local/lib/python3.6/dist-packages/torch/_utils.py\u001b[0m in \u001b[0;36mreraise\u001b[0;34m(self)\u001b[0m\n\u001b[1;32m    426\u001b[0m             \u001b[0;31m# have message field\u001b[0m\u001b[0;34m\u001b[0m\u001b[0;34m\u001b[0m\u001b[0;34m\u001b[0m\u001b[0m\n\u001b[1;32m    427\u001b[0m             \u001b[0;32mraise\u001b[0m \u001b[0mself\u001b[0m\u001b[0;34m.\u001b[0m\u001b[0mexc_type\u001b[0m\u001b[0;34m(\u001b[0m\u001b[0mmessage\u001b[0m\u001b[0;34m=\u001b[0m\u001b[0mmsg\u001b[0m\u001b[0;34m)\u001b[0m\u001b[0;34m\u001b[0m\u001b[0;34m\u001b[0m\u001b[0m\n\u001b[0;32m--> 428\u001b[0;31m         \u001b[0;32mraise\u001b[0m \u001b[0mself\u001b[0m\u001b[0;34m.\u001b[0m\u001b[0mexc_type\u001b[0m\u001b[0;34m(\u001b[0m\u001b[0mmsg\u001b[0m\u001b[0;34m)\u001b[0m\u001b[0;34m\u001b[0m\u001b[0;34m\u001b[0m\u001b[0m\n\u001b[0m\u001b[1;32m    429\u001b[0m \u001b[0;34m\u001b[0m\u001b[0m\n\u001b[1;32m    430\u001b[0m \u001b[0;34m\u001b[0m\u001b[0m\n",
            "\u001b[0;31mIndexError\u001b[0m: Caught IndexError in DataLoader worker process 0.\nOriginal Traceback (most recent call last):\n  File \"/usr/local/lib/python3.6/dist-packages/torch/utils/data/_utils/worker.py\", line 198, in _worker_loop\n    data = fetcher.fetch(index)\n  File \"/usr/local/lib/python3.6/dist-packages/torch/utils/data/_utils/fetch.py\", line 44, in fetch\n    data = [self.dataset[idx] for idx in possibly_batched_index]\n  File \"/usr/local/lib/python3.6/dist-packages/torch/utils/data/_utils/fetch.py\", line 44, in <listcomp>\n    data = [self.dataset[idx] for idx in possibly_batched_index]\n  File \"<ipython-input-206-fe4a0386d4d2>\", line 46, in __getitem__\n    image = self.transforms(image)\n  File \"/usr/local/lib/python3.6/dist-packages/torchvision/transforms/transforms.py\", line 67, in __call__\n    img = t(img)\n  File \"/content/drive/My Drive/pytorch-retinanet/retinanet/dataloader.py\", line 380, in __call__\n    image, annots = sample['img'], sample['annot']\nIndexError: only integers, slices (`:`), ellipsis (`...`), numpy.newaxis (`None`) and integer or boolean arrays are valid indices\n"
          ]
        }
      ]
    }
  ]
}